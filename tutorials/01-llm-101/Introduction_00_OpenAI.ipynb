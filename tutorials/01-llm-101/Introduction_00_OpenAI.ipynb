{
 "cells": [
  {
   "cell_type": "code",
   "execution_count": 5,
   "id": "5849dd30-21e6-453a-a9cf-5e355f99debd",
   "metadata": {},
   "outputs": [],
   "source": [
    "!pip install -q openai"
   ]
  },
  {
   "cell_type": "code",
   "execution_count": 6,
   "id": "6c5f28f1-8dfe-44a1-aedb-a1c9c2251b1d",
   "metadata": {},
   "outputs": [],
   "source": [
    "from getpass import getpass\n",
    "import os\n",
    "os.environ['OPENAI_API_KEY'] = getpass()"
   ]
  },
  {
   "cell_type": "code",
   "execution_count": 7,
   "id": "82297c4d-4a2b-45d2-b14b-fed1fae57b34",
   "metadata": {},
   "outputs": [],
   "source": [
    "from openai import OpenAI\n",
    "client = OpenAI()\n",
    "\n",
    "response = client.chat.completions.create(\n",
    "  model=\"gpt-3.5-turbo\",\n",
    "  messages=[\n",
    "    {\"role\": \"system\", \"content\": \"You are a helpful assistant.\"},\n",
    "    {\"role\": \"user\", \"content\": \"Who won the world series in 2020?\"},\n",
    "    {\"role\": \"assistant\", \"content\": \"The Los Angeles Dodgers won the World Series in 2020.\"},\n",
    "    {\"role\": \"user\", \"content\": \"Where was it played?\"}\n",
    "  ]\n",
    ")"
   ]
  },
  {
   "cell_type": "code",
   "execution_count": 8,
   "id": "211cc3bb-40df-4c20-91b2-89668e694d78",
   "metadata": {},
   "outputs": [
    {
     "name": "stdout",
     "output_type": "stream",
     "text": [
      "ChatCompletion(id='chatcmpl-9mBC62O1416VgxxgB8GmiocPhme45', choices=[Choice(finish_reason='stop', index=0, logprobs=None, message=ChatCompletionMessage(content='The 2020 World Series was played at Globe Life Field in Arlington, Texas.', role='assistant', function_call=None, tool_calls=None))], created=1721269802, model='gpt-3.5-turbo-0125', object='chat.completion', service_tier=None, system_fingerprint=None, usage=CompletionUsage(completion_tokens=17, prompt_tokens=53, total_tokens=70))\n"
     ]
    }
   ],
   "source": [
    "print(response)"
   ]
  },
  {
   "cell_type": "code",
   "execution_count": 9,
   "id": "11a355e4-e43a-4e02-8922-b9f0bd37b93d",
   "metadata": {},
   "outputs": [
    {
     "name": "stdout",
     "output_type": "stream",
     "text": [
      "The 2020 World Series was played at Globe Life Field in Arlington, Texas.\n"
     ]
    }
   ],
   "source": [
    "chat=response.choices[0].message.content\n",
    "print(chat)"
   ]
  },
  {
   "cell_type": "code",
   "execution_count": 10,
   "id": "1efbebd2-61ea-44a2-82fb-ddb0349e2823",
   "metadata": {},
   "outputs": [
    {
     "name": "stdout",
     "output_type": "stream",
     "text": [
      "The air speed velocity of a European swallow is approximately 20.1 miles per hour or 32.4 kilometers per hour.\n"
     ]
    }
   ],
   "source": [
    "#Examples of things you can use an LLM for\n",
    "#\n",
    "#1.1: Knowledge Recall\n",
    "response = client.chat.completions.create(\n",
    "  model=\"gpt-3.5-turbo\",\n",
    "  messages=[\n",
    "    {\"role\": \"system\", \"content\": \"You are a helpful assistant.\"},\n",
    "    {\"role\": \"user\", \"content\": \"What is the air speed velocity of a swallow?\"}\n",
    "  ]\n",
    ")\n",
    "chat=response.choices[0].message.content\n",
    "print(chat)"
   ]
  },
  {
   "cell_type": "code",
   "execution_count": 11,
   "id": "5083a1f2-0b96-4cac-ad45-14173164ab62",
   "metadata": {},
   "outputs": [
    {
     "name": "stdout",
     "output_type": "stream",
     "text": [
      "The ModelSEED compound with the ID cpd00007 is L-Glutamate.\n"
     ]
    }
   ],
   "source": [
    "#Examples of things you can use an LLM for\n",
    "#\n",
    "#1.2: Knowledge Recall\n",
    "response = client.chat.completions.create(\n",
    "  model=\"gpt-3.5-turbo\",\n",
    "  messages=[\n",
    "    {\"role\": \"system\", \"content\": \"You are a helpful assistant.\"},\n",
    "    {\"role\": \"user\", \"content\": \"What is the ModelSEED compound with the ID cpd00007?\"} #Correct answer is O2\n",
    "  ]\n",
    ")\n",
    "chat=response.choices[0].message.content\n",
    "print(chat)"
   ]
  },
  {
   "cell_type": "code",
   "execution_count": 12,
   "id": "d9d4478f-5e96-4686-9283-48062ddddb7c",
   "metadata": {},
   "outputs": [
    {
     "name": "stdout",
     "output_type": "stream",
     "text": [
      "To find the value of the expression 12x + 14x when x = 3.14, we substitute x with 3.14 and then perform the calculations:\n",
      "\n",
      "12(3.14) + 14(3.14) = 37.68 + 43.96 = 81.64\n",
      "\n",
      "Therefore, when x = 3.14, 12x + 14x equals 81.64.\n"
     ]
    }
   ],
   "source": [
    "#2.1: Calculations\n",
    "response = client.chat.completions.create(\n",
    "  model=\"gpt-3.5-turbo\",\n",
    "  messages=[\n",
    "    {\"role\": \"system\", \"content\": \"You are a helpful assistant.\"},\n",
    "    {\"role\": \"user\", \"content\": \"What is 12x + 14x equal if x = 3.14?\"}\n",
    "  ]\n",
    ")\n",
    "chat=response.choices[0].message.content\n",
    "print(chat)"
   ]
  },
  {
   "cell_type": "code",
   "execution_count": 13,
   "id": "28ad63e7-0e02-419b-b062-5c9b12c39ae9",
   "metadata": {},
   "outputs": [
    {
     "name": "stdout",
     "output_type": "stream",
     "text": [
      "Based on the provided MLST distance table:\n",
      "(a) USA300 and USA500 are not the most patriotic strains identified. These labels represent specific strains or isolates rather than nationalities.\n",
      "(b) USA500 is not most closely related to USA300. The most closely related strains are those with the smallest distances in the table, which are not USA300 and USA500.\n",
      "(c) C2012026546 does not share a source with the other infections, as it has higher distances compared to the other strains in the table.\n",
      "(d) C2012025220 is very similar to C2012025223, as they have a distance of 4, which is one of the smallest distances in the table.\n",
      "\n",
      "Therefore, the correct statement is (d) C2012025220 is very similar to C2012025223.\n"
     ]
    }
   ],
   "source": [
    "#2.2: Calculations\n",
    "response = client.chat.completions.create(\n",
    "  model=\"gpt-3.5-turbo\",\n",
    "  messages=[\n",
    "    {\"role\": \"system\", \"content\": \"You are a helpful assistant.\"},\n",
    "    {\"role\": \"user\", \"content\": \"Given the following table of MLST distances taken for outbreak source tracking: C2012025220 C2012025221 C2012025222 C2012025223 C2012025225 C2012025226 C2012025228 C2012026544 C2012026546 C2012026547 C2012026548 C2012026549 C2012027345 C2012027346 C2012027348 C2012027350 USA300 USA500 C2012025220 0 12 11 24 17 16 15 11 154 8 0 5 20 24 22 4 77 2397 C2012025221 12 0 3 16 5 5 2 3 154 12 12 14 16 16 14 11 82 2397 C2012025222 11 3 0 15 4 4 1 2 153 12 12 13 16 15 13 10 81 2396 C2012025223 24 16 15 0 15 15 14 15 158 18 18 20 0 4 2 18 86 2401 C2012025225 17 5 4 15 0 0 3 4 153 11 11 13 15 15 13 11 81 2396 C2012025226 16 5 4 15 0 0 3 4 152 11 11 13 15 15 13 11 80 2395 C2012025228 15 2 1 14 3 3 0 1 146 10 10 10 14 14 12 10 74 2388 C2012026544 11 3 2 15 4 4 1 0 153 11 11 13 15 15 13 10 81 2396 C2012026546 154 154 153 158 153 152 146 153 0 155 154 149 159 159 158 135 104 2416 C2012026547 8 12 12 18 11 11 10 11 155 0 2 3 18 18 16 5 83 2398 C2012026548 0 12 12 18 11 11 10 11 154 2 0 4 18 18 16 4 83 2397 C2012026549 5 14 13 20 13 13 10 13 149 3 4 0 20 18 18 3 76 2391 C2012027345 20 16 16 0 15 15 14 15 159 18 18 20 0 4 2 17 87 2402 C2012027346 24 16 15 4 15 15 14 15 159 18 18 18 4 0 2 18 83 2402 C2012027348 22 14 13 2 13 13 12 13 158 16 16 18 2 2 0 16 86 2401 C2012027350 4 11 10 18 11 11 10 10 135 5 4 3 17 18 16 0 62 2378 USA300 77 82 81 86 81 80 74 81 104 83 83 76 87 83 86 62 0 2335 USA500 2397 2397 2396 2401 2396 2395 2388 2396 2416 2398 2397 2391 2402 2402 2401 2378 2335 0 Which of the following statement is definitely true. (a) USA300 and USA500 are the most patriotic strains identified, (b) USA500 is most closely related to USA300, (c) C2012026546 does not share a source with the other infections, (d) C2012025220 is very similar to C2012025223\"}\n",
    "  ]\n",
    ")\n",
    "chat=response.choices[0].message.content\n",
    "print(chat)\n",
    "#correct answer is (c)"
   ]
  },
  {
   "cell_type": "code",
   "execution_count": 14,
   "id": "d77b9671-2d6f-4dfc-81da-d1f991cf9b21",
   "metadata": {},
   "outputs": [
    {
     "name": "stdout",
     "output_type": "stream",
     "text": [
      "Certainly! Here's an example code snippet in Python to read a JSON file and extract the specified fields into a CSV format using the `pandas` library:\n",
      "\n",
      "```python\n",
      "import pandas as pd\n",
      "\n",
      "# Read the JSON file\n",
      "data = pd.read_json('your_json_file.json')\n",
      "\n",
      "# Select the required columns\n",
      "selected_data = data[[\"Biomarker\", \"Primary Tumor type\", \"Drug full name\", \"Association\"]]\n",
      "\n",
      "# Write the selected data to a CSV file\n",
      "selected_data.to_csv('output.csv', index=False)\n",
      "```\n",
      "\n",
      "Make sure to replace `'your_json_file.json'` with the actual path to your JSON file. After running this code, you should have the required fields extracted into a CSV file named `output.csv`.\n"
     ]
    }
   ],
   "source": [
    "import textwrap\n",
    "\n",
    "#3.1 Writing code for a parsing task\n",
    "response = client.chat.completions.create(\n",
    "  model=\"gpt-3.5-turbo\",\n",
    "  messages=[\n",
    "    {\"role\": \"system\", \"content\": \"You are a helpful assistant.\"},\n",
    "    {\"role\": \"user\", \"content\": textwrap.dedent(\"\"\"\n",
    "        This is the beginning of a json entry:\n",
    "        \"cgi\": {\n",
    "            \"Targeting\": \"\",\n",
    "            \"Alteration\": \"ZBTB16:under\",\n",
    "            \"Source\": \"PMID:16637071\",\n",
    "            \"cDNA\": [\n",
    "              \"\"\n",
    "            ],\n",
    "        \"Primary Tumor type\": \"Prostate adenocarcinoma\",\n",
    "            \"individual_mutation\": [\n",
    "              \"\"\n",
    "            ],\n",
    "        \"Drug full name\": \"LHRH analogues or antagonists\",\n",
    "        \"Association\": \"Resistant\",\n",
    "        \"Drug family\": \"[LHRH analogues or antagonist]\",\n",
    "        \"Biomarker\": \"ZBTB16 undexpression\",\n",
    "        \"Drug\": \"[]\",\n",
    "        \"Curator\": \"ARodriguez-Vida\",\n",
    "        \"gDNA\": [\n",
    "          \"\"\n",
    "Please write code read a json file and pull out \"Biomarker\", \"Primary Tumor type\", \"Drug full name\", and \"Association\" into a csv format\n",
    "\"\"\")},\n",
    "  ]\n",
    ")\n",
    "chat=response.choices[0].message.content\n",
    "print(chat)"
   ]
  },
  {
   "cell_type": "code",
   "execution_count": 15,
   "id": "a60c3d34-3914-461a-92a2-451c93a0cd28",
   "metadata": {},
   "outputs": [
    {
     "name": "stdout",
     "output_type": "stream",
     "text": [
      "The first known coronavirus was isolated in chickens in the 1930s, but the first human coronavirus was identified in the mid-1960s. This particular coronavirus, known as the human coronavirus 229E, generally causes mild respiratory symptoms. The current coronavirus, known as SARS-CoV-2, is a novel coronavirus that emerged in late 2019 and is responsible for the COVID-19 pandemic.\n"
     ]
    }
   ],
   "source": [
    "#4.1 Implicit knowledge questions\n",
    "response = client.chat.completions.create(\n",
    "  model=\"gpt-3.5-turbo\",\n",
    "  messages=[\n",
    "    {\"role\": \"system\", \"content\": \"You are a helpful assistant.\"},\n",
    "    {\"role\": \"user\", \"content\": \"When was the first coronavirus?\"},\n",
    "  ]\n",
    ")\n",
    "chat=response.choices[0].message.content\n",
    "print(chat)"
   ]
  },
  {
   "cell_type": "code",
   "execution_count": 16,
   "id": "156f7b96-6a25-48fe-a393-d34bac148b33",
   "metadata": {},
   "outputs": [
    {
     "name": "stdout",
     "output_type": "stream",
     "text": [
      "Coronaviruses are a large family of viruses that can cause illness in animals and humans. The first known human coronavirus was identified in the 1960s. It was called the \"novel coronavirus\" because it was a newly discovered type of coronavirus at that time. The current pandemic is caused by a novel coronavirus called SARS-CoV-2, which emerged in late 2019.\n"
     ]
    }
   ],
   "source": [
    "#4.2 Implicit knowledge questions\n",
    "response = client.chat.completions.create(\n",
    "  model=\"gpt-3.5-turbo\",\n",
    "  messages=[\n",
    "    {\"role\": \"system\", \"content\": \"You are a helpful assistant.\"},\n",
    "    {\"role\": \"user\", \"content\": \"When was the first coronavirus?\"},\n",
    "  ]\n",
    ")\n",
    "chat=response.choices[0].message.content\n",
    "print(chat)"
   ]
  },
  {
   "cell_type": "code",
   "execution_count": 17,
   "id": "8c180dad-b3e1-40cc-95c5-e0833c1b67f4",
   "metadata": {},
   "outputs": [
    {
     "name": "stdout",
     "output_type": "stream",
     "text": [
      "The drying time for clothing is directly proportional to the number of items. So if 5 items took 5 hours to dry, it would take 30 items:\n",
      "\n",
      "5 hours * (30 items / 5 items) = 5 hours * 6 = 30 hours\n",
      "\n",
      "Therefore, it would take 30 hours to dry 30 items of clothing.\n"
     ]
    }
   ],
   "source": [
    "# 5.1 Common sense questions\n",
    "response = client.chat.completions.create(\n",
    "  model=\"gpt-3.5-turbo\",\n",
    "  messages=[\n",
    "    {\"role\": \"system\", \"content\": \"You are a helpful assistant.\"},\n",
    "    {\"role\": \"user\", \"content\": \" I left 5 items of clothing out to dry and it took 5 hours. How long would it take to dry 30 items of clothing?\"} \n",
    "  ]\n",
    ")\n",
    "chat=response.choices[0].message.content\n",
    "print(chat)"
   ]
  },
  {
   "cell_type": "code",
   "execution_count": 18,
   "id": "b3ba4c35-c94e-47be-9e07-6941ce141948",
   "metadata": {},
   "outputs": [
    {
     "name": "stdout",
     "output_type": "stream",
     "text": [
      "It is quite likely that you could get a flat tire by bicycling over a bridge that is suspended over nails, screws, and broken glass. These sharp objects can easily puncture your bicycle tire causing it to go flat. It is best to avoid cycling over such hazardous conditions to prevent damage to your tires and ensure your safety.\n"
     ]
    }
   ],
   "source": [
    "# 5.2 Common sense questions\n",
    "response = client.chat.completions.create(\n",
    "  model=\"gpt-3.5-turbo\",\n",
    "  messages=[\n",
    "    {\"role\": \"system\", \"content\": \"You are a helpful assistant.\"},\n",
    "    {\"role\": \"user\", \"content\": \"Would I get a flat tyre by bicycling over a bridge that is suspended over nails, screws and broken glass?\"} \n",
    "  ]\n",
    ")\n",
    "chat=response.choices[0].message.content\n",
    "print(chat)"
   ]
  },
  {
   "cell_type": "code",
   "execution_count": 19,
   "id": "2f72bdad-7023-46de-ab46-7b35c06b12c5",
   "metadata": {},
   "outputs": [
    {
     "name": "stdout",
     "output_type": "stream",
     "text": [
      "The correct option that makes use of regulatory organization when annotating unknown gene functions in a Bacteria is (b) transcription factor binding sites. Transcription factors bind to specific regions of DNA and play a key role in regulating gene expression, which can provide important insights into the function of a gene.\n"
     ]
    }
   ],
   "source": [
    "# 6.1 Other gaps\n",
    "response = client.chat.completions.create(\n",
    "  model=\"gpt-3.5-turbo\",\n",
    "  messages=[\n",
    "    {\"role\": \"system\", \"content\": \"You are a helpful assistant.\"},\n",
    "    {\"role\": \"user\", \"content\": textwrap.dedent(\"\"\"\n",
    "    Which of the following options makes use of regulatory organization when annotating \n",
    "    unknown gene functions in a Bacteria? (a) relative gene position, (b) transcription \n",
    "    factor binding sites, (c) protein-protein interactions or (d) RNA co-expression \n",
    "    \"\"\")} \n",
    "  ]\n",
    ")\n",
    "chat=response.choices[0].message.content\n",
    "print(chat)"
   ]
  },
  {
   "cell_type": "code",
   "execution_count": 20,
   "id": "016dc33b-0ff8-4677-a0ea-1597ca932a30",
   "metadata": {},
   "outputs": [
    {
     "name": "stdout",
     "output_type": "stream",
     "text": [
      "The correct answer is (d) all of the above.\n"
     ]
    }
   ],
   "source": [
    "# 6.2 Other gaps\n",
    "response = client.chat.completions.create(\n",
    "  model=\"gpt-3.5-turbo\",\n",
    "  messages=[\n",
    "    {\"role\": \"system\", \"content\": \"You are a helpful assistant.\"},\n",
    "    {\"role\": \"user\", \"content\": textwrap.dedent(\"\"\"\n",
    "    Which is one of the known differences between calcium oxalate formation in Roman aqueducts, coral reefs, \n",
    "    Yellowstone, and the human body? (a) where the stone forms, (b) the existence of biological accelerators \n",
    "    of stone formation in the human body and coral reefs, but not in aqueducts or Yellowstone, (c) in humans, \n",
    "    calcium oxalate starts as CaOx dihydrate, whereas in the other three, it starts as CaOx monohydrate, \n",
    "    (d) all of the above. \n",
    "    \"\"\")} \n",
    "  ]\n",
    ")\n",
    "chat=response.choices[0].message.content\n",
    "print(chat)"
   ]
  },
  {
   "cell_type": "code",
   "execution_count": null,
   "id": "5f85af1c-bdc1-46bf-947c-6fbc17a62972",
   "metadata": {},
   "outputs": [],
   "source": []
  }
 ],
 "metadata": {
  "kernelspec": {
   "display_name": "Python 3 (ipykernel)",
   "language": "python",
   "name": "python3"
  },
  "language_info": {
   "codemirror_mode": {
    "name": "ipython",
    "version": 3
   },
   "file_extension": ".py",
   "mimetype": "text/x-python",
   "name": "python",
   "nbconvert_exporter": "python",
   "pygments_lexer": "ipython3",
   "version": "3.10.5"
  }
 },
 "nbformat": 4,
 "nbformat_minor": 5
}
